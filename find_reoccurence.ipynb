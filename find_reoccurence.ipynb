{
 "cells": [
  {
   "cell_type": "code",
   "execution_count": 2,
   "metadata": {},
   "outputs": [
    {
     "name": "stderr",
     "output_type": "stream",
     "text": [
      "/Users/shuyitan/anaconda3/lib/python3.7/site-packages/fuzzywuzzy/fuzz.py:11: UserWarning: Using slow pure-python SequenceMatcher. Install python-Levenshtein to remove this warning\n",
      "  warnings.warn('Using slow pure-python SequenceMatcher. Install python-Levenshtein to remove this warning')\n"
     ]
    }
   ],
   "source": [
    "import openpyxl\n",
    "import os\n",
    "import pandas as pd\n",
    "import re, datetime\n",
    "from fuzzywuzzy import fuzz\n",
    "import numpy as np\n"
   ]
  },
  {
   "cell_type": "code",
   "execution_count": 3,
   "metadata": {},
   "outputs": [],
   "source": [
    "# os.chdir('/Users/shuyitan')\n",
    "#restaurant_name = \"Qdoba\"\n",
    "#directory_path = \"~/Dropbox/Restaurant Menu's shared workspace/Data/Panel Matching/Shuyi's test folder/\" + restaurant_name + \"_panel.xlsx\"\n",
    "directory_path = \"/Users/shuyitan/Dropbox/Restaurant Menu's shared workspace/Data/Panel Matching/Shuyi's test folder/steak_n_shake_panel.xlsx\"\n",
    "data = pd.read_excel(directory_path)\n",
    "date_list = data.file_date.unique()\n",
    "\n",
    "data[['Item Type 1','Item Type 2']] = data[['Item Type 1','Item Type 2']].replace(np.nan, '', regex=True)\n",
    "data['Item_Types'] = data[\"Item Type 1\"] +\" \"+ data[\"Item Type 2\"]\n",
    "data[\"name_and_type\"] = data[\"Item_Name\"] +\" \"+ data[\"Item Type 1\"] +\" \"+ data[\"Item Type 2\"]"
   ]
  },
  {
   "cell_type": "code",
   "execution_count": null,
   "metadata": {},
   "outputs": [],
   "source": [
    "i = 0\n",
    "while i <= len(date_list): \n",
    "    # starting from the first date t\n",
    "    current_file = data[data.file_date == date_list[i]]\n",
    "    # for those who don't have a match in t + 1\n",
    "    current_file_no_match = current_file[current_file.post_fuzzy == 0]\n",
    "    if current_file_no_match.shape[0] != 0: \n",
    "        for k in current_file_no_match.index: \n",
    "            item = current_file_no_match['name_and_type'][k]\n",
    "            # # starting iterating over data strating from t + 2\n",
    "            remain_data = data[(data.file_date != date_list[i]) & (data.file_date != date_list[i+1])]\n",
    "            for j in range(remain_data.index[0], remain_data.index[-1]): \n",
    "                item_be_compared = remain_data['name_and_type'][j]\n",
    "                # calculate similarity\n",
    "                ratio = fuzz.token_sort_ratio(item,item_be_compared) \n",
    "                # if similarity is greater than 85%, they are considered to be fuzzy-matched reoccurren\n",
    "                if ratio >= 85: \n",
    "                    \n",
    "                    # find items that have a same id as the matched in \n",
    "                    matched_item_id = remain_data['id'][j]\n",
    "                    # replace their ids with the id of item at time t \n",
    "                    loc_filter = data['id'] == matched_item_id\n",
    "                    # once find a match, break the loop\n",
    "                    data.loc[loc_filter, ['id']] = current_file_no_match['id'][k]\n",
    "                    break\n",
    "                \n",
    "    i += 1              \n"
   ]
  },
  {
   "cell_type": "code",
   "execution_count": null,
   "metadata": {},
   "outputs": [],
   "source": []
  }
 ],
 "metadata": {
  "interpreter": {
   "hash": "fda974607fc0dfb46c9f1d1eb6e5d702bd5d7468dbf3c71007d76ab9f6748a6d"
  },
  "kernelspec": {
   "display_name": "Python 3.7.3 64-bit ('base': conda)",
   "language": "python",
   "name": "python3"
  },
  "language_info": {
   "codemirror_mode": {
    "name": "ipython",
    "version": 3
   },
   "file_extension": ".py",
   "mimetype": "text/x-python",
   "name": "python",
   "nbconvert_exporter": "python",
   "pygments_lexer": "ipython3",
   "version": "3.7.3"
  },
  "orig_nbformat": 4
 },
 "nbformat": 4,
 "nbformat_minor": 2
}
