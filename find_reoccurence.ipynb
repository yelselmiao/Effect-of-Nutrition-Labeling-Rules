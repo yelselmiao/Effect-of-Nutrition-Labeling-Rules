{
 "cells": [
  {
   "cell_type": "code",
   "execution_count": 2,
   "metadata": {},
   "outputs": [
    {
     "name": "stderr",
     "output_type": "stream",
     "text": [
      "/Users/shuyitan/anaconda3/lib/python3.7/site-packages/fuzzywuzzy/fuzz.py:11: UserWarning: Using slow pure-python SequenceMatcher. Install python-Levenshtein to remove this warning\n",
      "  warnings.warn('Using slow pure-python SequenceMatcher. Install python-Levenshtein to remove this warning')\n"
     ]
    }
   ],
   "source": [
    "import openpyxl\n",
    "import os\n",
    "import pandas as pd\n",
    "import re, datetime\n",
    "from fuzzywuzzy import fuzz\n",
    "import numpy as np\n"
   ]
  },
  {
   "cell_type": "code",
   "execution_count": 17,
   "metadata": {},
   "outputs": [],
   "source": [
    "# os.chdir('/Users/shuyitan')\n",
    "#restaurant_name = \"Qdoba\"\n",
    "#directory_path = \"~/Dropbox/Restaurant Menu's shared workspace/Data/Panel Matching/Shuyi's test folder/\" + restaurant_name + \"_panel.xlsx\"\n",
    "directory_path = \"/Users/shuyitan/Dropbox/Restaurant Menu's shared workspace/Data/Panel Matching/Shuyi's test folder/steak_n_shake_panel.xlsx\"\n",
    "data = pd.read_excel(directory_path)\n",
    "date_list = data.file_date.unique()\n",
    "\n",
    "data[['Item Type 1','Item Type 2']] = data[['Item Type 1','Item Type 2']].replace(np.nan, '', regex=True)\n",
    "data['Item_Types'] = data[\"Item Type 1\"] +\" \"+ data[\"Item Type 2\"]\n",
    "data[\"name_and_type\"] = data[\"Item_Name\"] +\" \"+ data[\"Item Type 1\"] +\" \"+ data[\"Item Type 2\"]"
   ]
  },
  {
   "cell_type": "code",
   "execution_count": null,
   "metadata": {},
   "outputs": [],
   "source": [
    "i = 0\n",
    "while i <= len(date_list): \n",
    "    # starting from the first date t\n",
    "    current_file = data[data.file_date == date_list[i]]\n",
    "    # for those who don't have a match in t + 1\n",
    "    current_file_no_match = current_file[current_file.post_fuzzy == 0]\n",
    "    if current_file_no_match.shape[0] != 0: \n",
    "        for k in current_file_no_match.index: \n",
    "            item = current_file_no_match['current_file_no_match'][k]\n",
    "            # # starting iterating over data strating from t + 2\n",
    "            remain_data = data[(data.file_date != date_list[i]) & (data.file_date != date_list[i+1])]\n",
    "            for j in range(remain_data.index[0], remain_data.index[-1]): \n",
    "                item_be_compared = remain_data['current_file_no_match'][j]\n",
    "                # calculate similarity\n",
    "                ratio = fuzz.token_sort_ratio(item,item_be_compared) \n",
    "                # if similarity is greater than 85%, they are considered to be fuzzy-matched reoccurren\n",
    "                if ratio >= 85: \n",
    "                    # find items that have a same id as the matched in \n",
    "                    matched_item_id = remain_data['id'][j]\n",
    "                    same_id_item_loc = data[data.id == matched_item_id].index\n",
    "                    # replace their ids with the id item at time t \n",
    "                     \n",
    "\n",
    "\n",
    "            \n",
    "\n"
   ]
  },
  {
   "cell_type": "code",
   "execution_count": 24,
   "metadata": {},
   "outputs": [
    {
     "data": {
      "text/plain": [
       "612    NaN\n",
       "613    NaN\n",
       "628    NaN\n",
       "Name: post_fuzzy_item_name, dtype: object"
      ]
     },
     "execution_count": 24,
     "metadata": {},
     "output_type": "execute_result"
    }
   ],
   "source": [
    "# current_file = data[data.file_date == date_list[2]]\n",
    "# current_file_no_match = current_file[current_file.post_fuzzy == 0]\n",
    "current_file_no_match.post_fuzzy_item_name"
   ]
  },
  {
   "cell_type": "code",
   "execution_count": 27,
   "metadata": {},
   "outputs": [
    {
     "data": {
      "text/plain": [
       "8463"
      ]
     },
     "execution_count": 27,
     "metadata": {},
     "output_type": "execute_result"
    }
   ],
   "source": [
    "data[(data.file_date != date_list[i]) & (data.file_date != date_list[i+1])].index[-1]"
   ]
  },
  {
   "cell_type": "code",
   "execution_count": 23,
   "metadata": {},
   "outputs": [
    {
     "data": {
      "text/plain": [
       "Index(['id', 'file_date', 'Effective Date', 'Restaurant Name',\n",
       "       'Potential Problem', 'Item_Name', 'Item Type 1', 'Item Type 2',\n",
       "       'Item Type 3', 'Item Type 4', 'Added Component', 'Serving_Size',\n",
       "       'Serving_Unit', 'Calories', 'Calories from Fat', 'Total Fat (g)',\n",
       "       'Saturated Fat (g)', 'Trans Fat (g)', 'Cholesterol (mg)', 'Sodium (mg)',\n",
       "       'Total Carbohydrate (g)', 'Dietary Fiber (g)', 'Sugar (g)',\n",
       "       'Added Sugar', 'Protein (g)', 'Vitamin A (RE)', 'Vitamin C (mg)',\n",
       "       'Vitamin D (mg)', 'Calcium (mg)', 'Iron (mg)', 'Potassium (mg)',\n",
       "       'Vitamin A %DV', 'Vitamin C %DV', 'Vitamin D %DV', 'Calcium %DV',\n",
       "       'Iron %DV', 'Potassium %DV', 'Additional Serving Size',\n",
       "       'Additional Serving Unit', 'pre_fuzzy', 'pre_fuzzy_item_name',\n",
       "       'pre_fuzzy_types', 'pre_fuzzy_loc', 'pre_fuzzy_ser_size',\n",
       "       'pre_fuzzy_ser_unit', 'pre_fuzzy_size_match', 'pre_fuzzy_unit_match',\n",
       "       'pre_exact', 'pre_exact_item_name', 'pre_exact_types', 'pre_exact_loc',\n",
       "       'pre_exact_ser_size', 'pre_exact_ser_unit', 'pre_exact_size_match',\n",
       "       'pre_exact_unit_match', 'post_fuzzy', 'post_fuzzy_item_name',\n",
       "       'post_fuzzy_types', 'post_fuzzy_loc', 'post_fuzzy_ser_size',\n",
       "       'post_fuzzy_ser_unit', 'post_fuzzy_size_match', 'post_fuzzy_unit_match',\n",
       "       'post_exact', 'post_exact_item_name', 'post_exact_types',\n",
       "       'post_exact_loc', 'post_exact_ser_size', 'post_exact_ser_unit',\n",
       "       'post_exact_size_match', 'post_exact_unit_match'],\n",
       "      dtype='object')"
      ]
     },
     "execution_count": 23,
     "metadata": {},
     "output_type": "execute_result"
    }
   ],
   "source": [
    "current_file_no_match.columns"
   ]
  },
  {
   "cell_type": "code",
   "execution_count": null,
   "metadata": {},
   "outputs": [],
   "source": []
  }
 ],
 "metadata": {
  "interpreter": {
   "hash": "fda974607fc0dfb46c9f1d1eb6e5d702bd5d7468dbf3c71007d76ab9f6748a6d"
  },
  "kernelspec": {
   "display_name": "Python 3.7.3 64-bit ('base': conda)",
   "language": "python",
   "name": "python3"
  },
  "language_info": {
   "codemirror_mode": {
    "name": "ipython",
    "version": 3
   },
   "file_extension": ".py",
   "mimetype": "text/x-python",
   "name": "python",
   "nbconvert_exporter": "python",
   "pygments_lexer": "ipython3",
   "version": "3.7.3"
  },
  "orig_nbformat": 4
 },
 "nbformat": 4,
 "nbformat_minor": 2
}
